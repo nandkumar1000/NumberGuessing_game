{
 "cells": [
  {
   "cell_type": "code",
   "execution_count": 2,
   "metadata": {},
   "outputs": [],
   "source": [
    " import numpy as np"
   ]
  },
  {
   "cell_type": "code",
   "execution_count": 5,
   "metadata": {},
   "outputs": [
    {
     "name": "stdout",
     "output_type": "stream",
     "text": [
      "[ 1  3  4  5 56  1  3  4  5 56  1  3  4  5 56  1  3  4  5 56  1  3  4  5\n",
      " 56  1  3  4  5 56  1  3  4  5 56  1  3  4  5 56]\n"
     ]
    }
   ],
   "source": [
    "arr1=np.array([1,3,4,5,56]*8)\n",
    "print(arr1)"
   ]
  },
  {
   "cell_type": "code",
   "execution_count": 7,
   "metadata": {},
   "outputs": [
    {
     "name": "stdout",
     "output_type": "stream",
     "text": [
      "[[[[[[[[[[[[[[[[[2 3 4]]]]]]]]]]]]]]]]]\n"
     ]
    }
   ],
   "source": [
    "arr2=np.array([2,3,4],ndmin=17)\n",
    "print(arr2)"
   ]
  },
  {
   "cell_type": "code",
   "execution_count": 11,
   "metadata": {},
   "outputs": [
    {
     "name": "stdout",
     "output_type": "stream",
     "text": [
      "[[[[[[[[[[ 67   6]\n",
      "         [ 34 567]\n",
      "         [ 45  65]]]]]]]]]]\n"
     ]
    }
   ],
   "source": [
    "arr3=np.array([[67,6],[34,567],[45,65]],ndmin=10)\n",
    "print(arr3)"
   ]
  },
  {
   "cell_type": "code",
   "execution_count": 29,
   "metadata": {},
   "outputs": [
    {
     "name": "stdout",
     "output_type": "stream",
     "text": [
      "[[[[[[[[[[ 32  57  48  90 712  74  12]]]]]]]]]]\n",
      "[[[[[[[[[[-14 -11 -42   0 600  60   0]]]]]]]]]]\n"
     ]
    }
   ],
   "source": [
    "arr4=np.array([9,23,3,45,656,67,6],ndmin=10)\n",
    "arr5=np.array([23,34,45,45,56,7,6],ndmin=10)\n",
    "print(arr4+arr5)\n",
    "print(arr4-arr5)"
   ]
  },
  {
   "cell_type": "code",
   "execution_count": 30,
   "metadata": {},
   "outputs": [
    {
     "data": {
      "text/plain": [
       "(1, 1, 1, 1, 1, 1, 1, 1, 1, 7)"
      ]
     },
     "execution_count": 30,
     "metadata": {},
     "output_type": "execute_result"
    }
   ],
   "source": [
    "arr4.shape\n",
    "# arr4.size\n",
    "arr5.shape\n",
    "#  arr5.size"
   ]
  },
  {
   "cell_type": "code",
   "execution_count": 31,
   "metadata": {},
   "outputs": [
    {
     "data": {
      "text/plain": [
       "array([[[[[[[[[  9,  23,   3,  45, 656,  67,   6]]]]]]]]])"
      ]
     },
     "execution_count": 31,
     "metadata": {},
     "output_type": "execute_result"
    }
   ],
   "source": [
    "np.min(arr4,axis=1)\n",
    "\n",
    "\n"
   ]
  },
  {
   "cell_type": "code",
   "execution_count": 34,
   "metadata": {},
   "outputs": [
    {
     "data": {
      "text/plain": [
       "array([[[[[[[  9,  23,   3,  45, 656,  67,   6]]]]]]])"
      ]
     },
     "execution_count": 34,
     "metadata": {},
     "output_type": "execute_result"
    }
   ],
   "source": [
    "np.max(arr4,axis=1)"
   ]
  },
  {
   "cell_type": "code",
   "execution_count": null,
   "metadata": {},
   "outputs": [],
   "source": [
    "np.arr4"
   ]
  }
 ],
 "metadata": {
  "kernelspec": {
   "display_name": "Python 3",
   "language": "python",
   "name": "python3"
  },
  "language_info": {
   "codemirror_mode": {
    "name": "ipython",
    "version": 3
   },
   "file_extension": ".py",
   "mimetype": "text/x-python",
   "name": "python",
   "nbconvert_exporter": "python",
   "pygments_lexer": "ipython3",
   "version": "3.12.3"
  }
 },
 "nbformat": 4,
 "nbformat_minor": 2
}
